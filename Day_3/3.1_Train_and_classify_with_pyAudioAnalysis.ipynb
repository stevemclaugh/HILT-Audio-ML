{
 "cells": [
  {
   "cell_type": "markdown",
   "metadata": {},
   "source": [
    "## *Train and Classify with pyAudioAnalysis*"
   ]
  },
  {
   "cell_type": "code",
   "execution_count": null,
   "metadata": {
    "collapsed": true
   },
   "outputs": [],
   "source": [
    "import os\n",
    "import shutil\n",
    "import random\n",
    "import numpy as np\n",
    "import timeit\n",
    "import random\n",
    "import numpy as np\n",
    "import librosa\n",
    "from pyAudioAnalysis import audioTrainTest as aT\n",
    "from pyAudioAnalysis import audioSegmentation as aS\n",
    "from IPython.display import display, Audio\n",
    "%matplotlib inline\n",
    "\n",
    "os.chdir('/home/sharedfolder/')\n",
    "\n",
    "## Uncomment these lines the first time you run this notebook to download the training data.\n",
    "#!wget http://www.stephenmclaughlin.net/HILT/DDay_noisy_correspondent_train.zip\n",
    "#!unzip DDay_noisy_correspondent_train.zip\n",
    "\n",
    "os.chdir('/home/sharedfolder/DDay_noisy_correspondent_train')"
   ]
  },
  {
   "cell_type": "markdown",
   "metadata": {},
   "source": [
    "The following command will train an SVM classifier using the Python package **`pyAudioAnalysis`**, which it will store in the directory **`models`**.\n",
    "\n",
    "The list argument **`['not_noisy','noisy']`** in the command below points to the directories **`noisy`** and **`not_noisy`**. Because of the order we've chosen, the model will output 0 (zero) for \"not_noisy\" and 1 for \"noisy.\"\n",
    "\n",
    "You can find more details on the [pyAudioAnalysis Wiki](https://github.com/tyiannak/pyAudioAnalysis/wiki/4.-Classification-and-Regression) and in this [article in PLOS one](http://journals.plos.org/plosone/article?id=10.1371/journal.pone.0144610) by  Theodoros Giannakopoulos, the package's creator.\n",
    "\n",
    "You can find the source code for the aT.audioTrainTest module [here](https://github.com/tyiannak/pyAudioAnalysis/blob/master/audioTrainTest.py).\n",
    "\n",
    "By the way, the default values **`aT.shortTermWindow`** and **`aT.shortTermStep`** are both 0.050 seconds."
   ]
  },
  {
   "cell_type": "code",
   "execution_count": null,
   "metadata": {},
   "outputs": [],
   "source": [
    "start = timeit.default_timer()\n",
    "\n",
    "aT.featureAndTrain(['not_noisy','noisy'], 1.0, 1.0, aT.shortTermWindow, aT.shortTermStep, \\\n",
    "                   \"svm\", \"models/svm_NBC_noise\", False) \n"
   ]
  },
  {
   "cell_type": "code",
   "execution_count": null,
   "metadata": {},
   "outputs": [],
   "source": [
    "print(timeit.default_timer() - start)     ## Measuring how long it takes to train our model"
   ]
  },
  {
   "cell_type": "markdown",
   "metadata": {},
   "source": [
    "#### **`pyAudioAnalysis`** supports 4 classification algorithms using the package **`scikit-learn`**, and it provides its own version of k-nearest neighbors. You can swap in the terms below in place of \"svm\" above to compare performance and training time.\n",
    "\n",
    "    svm\n",
    "    randomforest\n",
    "    knn\n",
    "    gradientboosting\n",
    "    extratrees\n",
    "\n",
    "Here's a [helpful article](http://scikit-learn.org/stable/modules/svm.html) on SVMs in general and scikit-learn's implementation of the algorithm."
   ]
  },
  {
   "cell_type": "markdown",
   "metadata": {},
   "source": [
    "## *Classifying unseen audio*"
   ]
  },
  {
   "cell_type": "code",
   "execution_count": null,
   "metadata": {
    "collapsed": true
   },
   "outputs": [],
   "source": [
    "## Uncomment this line to download a set of clips from audio files that were not used in the training set (1.68GB)\n",
    "\n",
    "#!wget http://www.stephenmclaughlin.net/HILT/DDay_noisy_correspondent_unseen.zip -O ../DDay_noisy_correspondent_unseen.zip\n",
    "#!unzip ../DDay_noisy_correspondent_unseen.zip -d ../"
   ]
  },
  {
   "cell_type": "code",
   "execution_count": null,
   "metadata": {},
   "outputs": [],
   "source": [
    "model_path = 'models/svm_NBC_noise'\n",
    "dir_path = '../DDay_noisy_correspondent_unseen/'\n",
    "wav_filename = random.choice(os.listdir(dir_path))\n",
    "wav_path = os.path.join(dir_path,wav_filename)\n",
    "\n",
    "classifier_output, classes, acc, CM = aS.mtFileClassification(wav_path, model_path, \"svm\")\n",
    "\n",
    "print(wav_filename)\n",
    "display(Audio(wav_path))\n",
    "print(\"0: \" + classes[0])\n",
    "print(\"1: \" + classes[1])\n",
    "print('')\n",
    "print(classifier_output)\n",
    "print('')\n",
    "print(\"Mean classification: \" + str(np.mean(classifier_output)))\n",
    "print('-'*75)"
   ]
  },
  {
   "cell_type": "code",
   "execution_count": null,
   "metadata": {
    "collapsed": true
   },
   "outputs": [],
   "source": []
  },
  {
   "cell_type": "code",
   "execution_count": null,
   "metadata": {
    "collapsed": true
   },
   "outputs": [],
   "source": []
  },
  {
   "cell_type": "code",
   "execution_count": null,
   "metadata": {
    "collapsed": true
   },
   "outputs": [],
   "source": []
  },
  {
   "cell_type": "code",
   "execution_count": null,
   "metadata": {
    "collapsed": true
   },
   "outputs": [],
   "source": []
  },
  {
   "cell_type": "code",
   "execution_count": null,
   "metadata": {
    "collapsed": true
   },
   "outputs": [],
   "source": []
  },
  {
   "cell_type": "code",
   "execution_count": null,
   "metadata": {
    "collapsed": true
   },
   "outputs": [],
   "source": []
  },
  {
   "cell_type": "markdown",
   "metadata": {
    "collapsed": true
   },
   "source": [
    "## *Adding a music/speech classifier*"
   ]
  },
  {
   "cell_type": "code",
   "execution_count": null,
   "metadata": {
    "collapsed": true
   },
   "outputs": [],
   "source": [
    "## Uncomment and run the following lines to download a trained specch/music SVM model from pyAudioAnalysis.\n",
    "\n",
    "#!wget -P /home/sharedfolder/DDay_noisy_correspondent_train/models/ https://raw.githubusercontent.com/tyiannak/pyAudioAnalysis/master/data/svmSM\n",
    "#!wget -P /home/sharedfolder/DDay_noisy_correspondent_train/models/ https://raw.githubusercontent.com/tyiannak/pyAudioAnalysis/master/data/svmSM.arff\n",
    "#!wget -P /home/sharedfolder/DDay_noisy_correspondent_train/models/ https://raw.githubusercontent.com/tyiannak/pyAudioAnalysis/master/data/svmSMMEANS\n",
    "\n",
    "# And browse more trained models here:\n",
    "# https://github.com/tyiannak/pyAudioAnalysis/tree/master/data\n"
   ]
  },
  {
   "cell_type": "code",
   "execution_count": null,
   "metadata": {},
   "outputs": [],
   "source": [
    "## Comparing music and noisy scores\n",
    "\n",
    "dir_path = '../DDay_noisy_correspondent_unseen/'\n",
    "wav_filename = random.choice(os.listdir(dir_path))\n",
    "wav_path = os.path.join(dir_path,wav_filename)\n",
    "\n",
    "noise_output, noise_classes, acc, CM = aS.mtFileClassification(wav_path, 'models/svm_NBC_noise', \"svm\")\n",
    "music_output, music_classes, acc, CM = aS.mtFileClassification(wav_path, 'models/svmSM', \"svm\")\n",
    "\n",
    "print(wav_filename)\n",
    "display(Audio(wav_path))\n",
    "print(\"0: \" + noise_classes[0])\n",
    "print(\"1: \" + noise_classes[1])\n",
    "print('')\n",
    "print(noise_output)\n",
    "print('')\n",
    "print(\"Noise mean: \" + str(np.mean(noise_output)))\n",
    "print('-'*75)\n",
    "print('')\n",
    "print(\"0: \" + music_classes[0])\n",
    "print(\"1: \" + music_classes[1])\n",
    "print('')\n",
    "print(music_output)\n",
    "print('')\n",
    "print(\"Music mean: \" + str(np.mean(music_output)))\n",
    "print('-'*75)"
   ]
  },
  {
   "cell_type": "code",
   "execution_count": null,
   "metadata": {
    "collapsed": true
   },
   "outputs": [],
   "source": []
  },
  {
   "cell_type": "code",
   "execution_count": null,
   "metadata": {
    "collapsed": true
   },
   "outputs": [],
   "source": []
  },
  {
   "cell_type": "code",
   "execution_count": null,
   "metadata": {
    "collapsed": true
   },
   "outputs": [],
   "source": []
  },
  {
   "cell_type": "code",
   "execution_count": null,
   "metadata": {
    "collapsed": true
   },
   "outputs": [],
   "source": []
  },
  {
   "cell_type": "code",
   "execution_count": null,
   "metadata": {
    "collapsed": true
   },
   "outputs": [],
   "source": []
  },
  {
   "cell_type": "code",
   "execution_count": null,
   "metadata": {
    "collapsed": true
   },
   "outputs": [],
   "source": []
  },
  {
   "cell_type": "code",
   "execution_count": null,
   "metadata": {
    "collapsed": true
   },
   "outputs": [],
   "source": []
  },
  {
   "cell_type": "code",
   "execution_count": null,
   "metadata": {
    "collapsed": true
   },
   "outputs": [],
   "source": []
  },
  {
   "cell_type": "code",
   "execution_count": null,
   "metadata": {
    "collapsed": true
   },
   "outputs": [],
   "source": []
  },
  {
   "cell_type": "markdown",
   "metadata": {
    "collapsed": true
   },
   "source": [
    "## *Adding a spectrogram*"
   ]
  },
  {
   "cell_type": "code",
   "execution_count": null,
   "metadata": {},
   "outputs": [],
   "source": [
    "import matplotlib.pyplot as plt\n",
    "import librosa.display\n",
    "\n",
    "dir_path = '../DDay_noisy_correspondent_unseen/'\n",
    "wav_filename = random.choice([item for item in os.listdir(dir_path) if '.wav' in item])\n",
    "wav_path = os.path.join(dir_path,wav_filename)\n",
    "\n",
    "noise_output, noise_classes, acc, CM = aS.mtFileClassification(wav_path, 'models/svm_NBC_noise', \"svm\")\n",
    "music_output, music_classes, acc, CM = aS.mtFileClassification(wav_path, 'models/svmSM', \"svm\")\n",
    "\n",
    "print(wav_filename)\n",
    "\n",
    "print(\"Noisy mean: \" + str(np.mean(noise_output)))\n",
    "print(\"Music mean: \" + str(np.mean(music_output)))\n",
    "\n",
    "sample_array, sample_rate = librosa.load(wav_path)\n",
    "D = librosa.stft(sample_array)\n",
    "librosa.display.specshow(librosa.amplitude_to_db(D,ref=np.max), y_axis='log', x_axis='time')\n",
    "plt.title('Power spectrogram')\n",
    "plt.colorbar(format='%+2.0f dB')\n",
    "plt.tight_layout()\n",
    "\n",
    "display(Audio(wav_path))"
   ]
  },
  {
   "cell_type": "code",
   "execution_count": null,
   "metadata": {
    "collapsed": true
   },
   "outputs": [],
   "source": []
  },
  {
   "cell_type": "code",
   "execution_count": null,
   "metadata": {
    "collapsed": true
   },
   "outputs": [],
   "source": []
  },
  {
   "cell_type": "code",
   "execution_count": null,
   "metadata": {
    "collapsed": true
   },
   "outputs": [],
   "source": []
  },
  {
   "cell_type": "code",
   "execution_count": null,
   "metadata": {
    "collapsed": true
   },
   "outputs": [],
   "source": []
  },
  {
   "cell_type": "code",
   "execution_count": null,
   "metadata": {
    "collapsed": true
   },
   "outputs": [],
   "source": []
  },
  {
   "cell_type": "code",
   "execution_count": null,
   "metadata": {
    "collapsed": true
   },
   "outputs": [],
   "source": []
  },
  {
   "cell_type": "code",
   "execution_count": null,
   "metadata": {
    "collapsed": true
   },
   "outputs": [],
   "source": []
  },
  {
   "cell_type": "markdown",
   "metadata": {
    "collapsed": true
   },
   "source": [
    "## *Searching for noisy, non-music audio*"
   ]
  },
  {
   "cell_type": "code",
   "execution_count": null,
   "metadata": {},
   "outputs": [],
   "source": [
    "import matplotlib.pyplot as plt\n",
    "import librosa.display\n",
    "\n",
    "dir_path = '../DDay_noisy_correspondent_unseen/'\n",
    "wav_filename = random.choice([item for item in os.listdir(dir_path) if '.wav' in item])\n",
    "wav_path = os.path.join(dir_path,wav_filename)\n",
    "\n",
    "counter=0\n",
    "\n",
    "while True:\n",
    "    noise_output, noise_classes, acc, CM = aS.mtFileClassification(wav_path, 'models/svm_NBC_noise', \"svm\")\n",
    "    music_output, music_classes, acc, CM = aS.mtFileClassification(wav_path, 'models/svmSM', \"svm\")\n",
    "    \n",
    "    if (np.mean(noise_output) > 0.4):\n",
    "        if (np.mean(music_output < 0.6)):\n",
    "            print(wav_filename)\n",
    "\n",
    "            print(\"Noisy: \" + str(np.mean(noise_output)))\n",
    "            print(\"Music: \" + str(np.mean(music_output)))\n",
    "\n",
    "            sample_array, sample_rate = librosa.load(wav_path)\n",
    "            D = librosa.stft(sample_array)\n",
    "            librosa.display.specshow(librosa.amplitude_to_db(D,ref=np.max), y_axis='log', x_axis='time')\n",
    "            plt.title('Power spectrogram')\n",
    "            plt.colorbar(format='%+2.0f dB')\n",
    "            plt.tight_layout()\n",
    "            display(Audio(wav_path))\n",
    "            \n",
    "    counter+=1\n",
    "    if counter > 12:\n",
    "        print(\"No examples found; there might be a problem.\")\n",
    "        break\n",
    "\n"
   ]
  },
  {
   "cell_type": "code",
   "execution_count": null,
   "metadata": {
    "collapsed": true
   },
   "outputs": [],
   "source": []
  },
  {
   "cell_type": "code",
   "execution_count": null,
   "metadata": {
    "collapsed": true
   },
   "outputs": [],
   "source": []
  },
  {
   "cell_type": "code",
   "execution_count": null,
   "metadata": {
    "collapsed": true
   },
   "outputs": [],
   "source": []
  },
  {
   "cell_type": "code",
   "execution_count": null,
   "metadata": {
    "collapsed": true
   },
   "outputs": [],
   "source": []
  },
  {
   "cell_type": "code",
   "execution_count": null,
   "metadata": {
    "collapsed": true
   },
   "outputs": [],
   "source": []
  },
  {
   "cell_type": "code",
   "execution_count": null,
   "metadata": {
    "collapsed": true
   },
   "outputs": [],
   "source": []
  },
  {
   "cell_type": "code",
   "execution_count": null,
   "metadata": {
    "collapsed": true
   },
   "outputs": [],
   "source": []
  },
  {
   "cell_type": "code",
   "execution_count": null,
   "metadata": {
    "collapsed": true
   },
   "outputs": [],
   "source": []
  }
 ],
 "metadata": {
  "kernelspec": {
   "display_name": "Python 2",
   "language": "python",
   "name": "python2"
  },
  "language_info": {
   "codemirror_mode": {
    "name": "ipython",
    "version": 2
   },
   "file_extension": ".py",
   "mimetype": "text/x-python",
   "name": "python",
   "nbconvert_exporter": "python",
   "pygments_lexer": "ipython2",
   "version": "2.7.6"
  }
 },
 "nbformat": 4,
 "nbformat_minor": 2
}
