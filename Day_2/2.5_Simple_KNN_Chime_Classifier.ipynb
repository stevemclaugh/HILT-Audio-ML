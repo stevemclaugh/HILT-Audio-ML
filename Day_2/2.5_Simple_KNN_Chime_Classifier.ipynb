{
 "cells": [
  {
   "cell_type": "code",
   "execution_count": null,
   "metadata": {
    "collapsed": true
   },
   "outputs": [],
   "source": [
    "import os\n",
    "import numpy as np\n",
    "import librosa\n",
    "\n",
    "os.chdir('/home/sharedfolder')"
   ]
  },
  {
   "cell_type": "code",
   "execution_count": null,
   "metadata": {},
   "outputs": [],
   "source": []
  },
  {
   "cell_type": "markdown",
   "metadata": {},
   "source": [
    "If you don't already have chime and non-chime clips, you can download them here.\n",
    "\n",
    "Unzip the files and move the directories to **`sharedfolder`** on your desktop.\n",
    "\n",
    "- [https://github.com/hipstas/audio-ml-introduction/blob/master/NBC_Not_Chimes_sample.zip](https://github.com/hipstas/audio-ml-introduction/blob/master/NBC_Chimes_sample.zip)\n",
    "- [https://github.com/hipstas/audio-ml-introduction/blob/master/NBC_Not_Chimes_sample.zip](https://github.com/hipstas/audio-ml-introduction/blob/master/NBC_Not_Chimes_sample.zip)"
   ]
  },
  {
   "cell_type": "code",
   "execution_count": null,
   "metadata": {},
   "outputs": [],
   "source": [
    "!mkdir NBC_Chimes_test\n",
    "!mkdir NBC_Not_Chimes_test"
   ]
  },
  {
   "cell_type": "markdown",
   "metadata": {},
   "source": [
    "Now move one file from each folder to \"NBC_Chimes_test\" and \"NBC_Not_Chimes_test,\" which we just created in the cell above."
   ]
  },
  {
   "cell_type": "code",
   "execution_count": null,
   "metadata": {
    "collapsed": true
   },
   "outputs": [],
   "source": [
    "def get_mfccs(wav_pathname):\n",
    "    sample_array, sample_rate = librosa.load(wav_pathname)\n",
    "    mfcc_frames = librosa.feature.mfcc(sample_array, sample_rate, hop_length=512, n_mfcc=13).T\n",
    "    mfcc_frames_sans_0th = [frame_values[1:] for frame_values in mfcc_frames]\n",
    "    return mfcc_frames_sans_0th"
   ]
  },
  {
   "cell_type": "code",
   "execution_count": null,
   "metadata": {
    "collapsed": true
   },
   "outputs": [],
   "source": [
    "chime_mfccs = []\n",
    "\n",
    "for filename in os.listdir('NBC_Chimes'):\n",
    "    if '.wav' in filename:\n",
    "        chime_mfccs += get_mfccs('NBC_Chimes/'+filename)"
   ]
  },
  {
   "cell_type": "code",
   "execution_count": null,
   "metadata": {
    "collapsed": true
   },
   "outputs": [],
   "source": [
    "not_chime_mfccs = []\n",
    "\n",
    "for filename in os.listdir('NBC_Not_Chimes'):\n",
    "    if '.wav' in filename:\n",
    "        not_chime_mfccs += get_mfccs('NBC_Not_Chimes/'+filename)"
   ]
  },
  {
   "cell_type": "code",
   "execution_count": null,
   "metadata": {},
   "outputs": [],
   "source": [
    "from sklearn.neighbors import KNeighborsClassifier\n",
    "\n",
    "neigh = KNeighborsClassifier(n_neighbors=3)\n",
    "neigh.fit(X, y)"
   ]
  },
  {
   "cell_type": "code",
   "execution_count": null,
   "metadata": {},
   "outputs": [],
   "source": []
  },
  {
   "cell_type": "code",
   "execution_count": null,
   "metadata": {},
   "outputs": [],
   "source": [
    "X = not_chime_mfccs + chime_mfccs\n",
    "y = [0]*len(not_chime_mfccs) + [1]*len(chime_mfccs)\n",
    "\n",
    "print(len(X))\n",
    "print(len(y))"
   ]
  },
  {
   "cell_type": "code",
   "execution_count": null,
   "metadata": {},
   "outputs": [],
   "source": [
    "# More details here:\n",
    "# http://scikit-learn.org/stable/modules/generated/sklearn.neighbors.KNeighborsClassifier.html\n",
    "\n",
    "from sklearn.neighbors import KNeighborsClassifier\n",
    "\n",
    "neigh = KNeighborsClassifier(n_neighbors=3)\n",
    "neigh.fit(X, y)"
   ]
  },
  {
   "cell_type": "code",
   "execution_count": null,
   "metadata": {
    "collapsed": true
   },
   "outputs": [],
   "source": [
    "chime_mfccs_test = get_mfccs(\"NBC_Chimes_test/CBD-440607_NBC1600-MaryNobleBackstageWife_chime.wav\") ## Add your test filename here\n",
    "non_chime_mfccs_test = get_mfccs(\"NBC_Not_Chimes_test/CBD-440607_NBC0745-ReveilleRound-Up_start_450.98_dur_3.0.wav\") ## Add your test filename here"
   ]
  },
  {
   "cell_type": "code",
   "execution_count": null,
   "metadata": {},
   "outputs": [],
   "source": []
  },
  {
   "cell_type": "code",
   "execution_count": null,
   "metadata": {},
   "outputs": [],
   "source": [
    "neigh.predict(non_chime_mfccs_test)"
   ]
  },
  {
   "cell_type": "code",
   "execution_count": null,
   "metadata": {},
   "outputs": [],
   "source": [
    "print(np.mean(neigh.predict(non_chime_mfccs_test)))"
   ]
  },
  {
   "cell_type": "code",
   "execution_count": null,
   "metadata": {},
   "outputs": [],
   "source": [
    "print(np.mean(neigh.predict(chime_mfccs_test)))"
   ]
  },
  {
   "cell_type": "code",
   "execution_count": null,
   "metadata": {
    "collapsed": true
   },
   "outputs": [],
   "source": []
  }
 ],
 "metadata": {
  "kernelspec": {
   "display_name": "Python 2",
   "language": "python",
   "name": "python2"
  },
  "language_info": {
   "codemirror_mode": {
    "name": "ipython",
    "version": 2
   },
   "file_extension": ".py",
   "mimetype": "text/x-python",
   "name": "python",
   "nbconvert_exporter": "python",
   "pygments_lexer": "ipython2",
   "version": "2.7.6"
  }
 },
 "nbformat": 4,
 "nbformat_minor": 2
}
