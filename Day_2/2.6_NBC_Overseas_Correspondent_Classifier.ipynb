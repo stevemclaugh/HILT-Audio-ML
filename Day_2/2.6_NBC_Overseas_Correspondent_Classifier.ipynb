{
 "cells": [
  {
   "cell_type": "markdown",
   "metadata": {},
   "source": [
    "## *NBC Overseas Correspondent Classifier*"
   ]
  },
  {
   "cell_type": "code",
   "execution_count": null,
   "metadata": {
    "collapsed": true
   },
   "outputs": [],
   "source": [
    "import os\n",
    "os.chdir('/home/sharedfolder')"
   ]
  },
  {
   "cell_type": "code",
   "execution_count": null,
   "metadata": {
    "collapsed": true
   },
   "outputs": [],
   "source": [
    "import os\n",
    "import shutil\n",
    "import random\n",
    "import numpy as np\n",
    "from pyAudioAnalysis import audioTrainTest as aT\n",
    "from pyAudioAnalysis import audioSegmentation as aS"
   ]
  },
  {
   "cell_type": "code",
   "execution_count": null,
   "metadata": {
    "collapsed": true
   },
   "outputs": [],
   "source": [
    "# Creating new directories to keep our files organized\n",
    "\n",
    "!mkdir /home/sharedfolder/NBC_DDay_News\n",
    "!mkdir /home/sharedfolder/NBC_DDay_News_Clips\n",
    "!mkdir /home/sharedfolder/NBC_DDay_News_Clips_Subset"
   ]
  },
  {
   "cell_type": "code",
   "execution_count": null,
   "metadata": {
    "collapsed": true
   },
   "outputs": [],
   "source": [
    "# Let's change our working directory to \"NBC_DDay_Complete_Broadcast\" and create a list of filenames.\n",
    "\n",
    "os.chdir('/home/sharedfolder/NBC_DDay_Complete_Broadcast')\n",
    "filenames=os.listdir('./')\n",
    "filenames = [item for item in filenames if 'news' in item.lower()]\n",
    "len(filenames)\n",
    "filenames=filenames[0:5]"
   ]
  },
  {
   "cell_type": "markdown",
   "metadata": {},
   "source": [
    "### *Task:*\n",
    "\n",
    "Move all files whose names contain \"News\" into the directory **`/home/sharedfolder/NBC_DDay_News`**.\n",
    "\n",
    "**Hint:** You can either do this in the terminal or in Python. **`shutil.move(\"filename.mp3\", \"/path/to/directory/\")`** will move a file to another directory, just like **`mv`** does in Bash.\n",
    "\n",
    "If you choose to use Python, one option is to use the list comprehension feature. You may want to create and view your list of \"News\" filenames before you actually move them."
   ]
  },
  {
   "cell_type": "code",
   "execution_count": null,
   "metadata": {
    "collapsed": true
   },
   "outputs": [],
   "source": [
    "\n",
    "\n",
    "filenames\n"
   ]
  },
  {
   "cell_type": "code",
   "execution_count": null,
   "metadata": {
    "collapsed": true
   },
   "outputs": [],
   "source": [
    "for filename in filenames:\n",
    "    shutil.copy(filename, \"/home/sharedfolder/NBC_DDay_News\")"
   ]
  },
  {
   "cell_type": "code",
   "execution_count": null,
   "metadata": {
    "collapsed": true
   },
   "outputs": [],
   "source": [
    "os.chdir(\"/home/sharedfolder/NBC_DDay_News\")\n",
    "\n",
    "!for f in *.mp3; do ffmpeg -i $f -f segment -segment_time 30 $f.%04d_clip.wav ; done\n",
    "\n"
   ]
  },
  {
   "cell_type": "markdown",
   "metadata": {},
   "source": [
    "### *Splitting recordings into 30-second segments*\n",
    "\n",
    "Next we'll use **`ffmpeg`** to split each file into 30-second WAV chunks (which are quicker and more convenient to work with than full recordings). \n",
    "\n",
    "In the terminal, **`cd`** to the directory **`NBC_DDay_News_Clips`** and run the following command, which will create numbered 30-second segments whose filenames end with **`_clip.wav`**. The process may take a few minutes to complete.\n",
    "\n",
    "```\n",
    "for f in *.mp3; do\n",
    "ffmpeg -i $f -f segment -segment_time 30 $f.%04d_clip.wav ;\n",
    "done\n",
    "```"
   ]
  },
  {
   "cell_type": "code",
   "execution_count": null,
   "metadata": {
    "collapsed": true
   },
   "outputs": [],
   "source": [
    "!for f in *.mp3; do ffmpeg -i $f -f segment -segment_time 30 $f.%04d.wav ; done\n",
    "!for f in *.wav; do sox $f -n spectrogram -x 1600 -y 513 -r -o $f.png; done"
   ]
  },
  {
   "cell_type": "markdown",
   "metadata": {},
   "source": [
    "### *Task:*\n",
    "\n",
    "Use Python to randomly choose around 300 of the files you just created and move them to the directory **`NBC_DDay_News_Clips_Subset`**.\n",
    "\n",
    "First you'll need to change your current directory to **`/home/sharedfolder/NBC_DDay_News_Clips`** with **`os.chdir(...)`**, then use **`os.listdir('./')`** to create a list of filenames like we did in the third cell of this notebook.\n",
    "\n",
    "**Hint:** Only include filenames that end with **`_clip.wav`**. We only want to work with our 30-second clips in the next step, not the original recordings.\n",
    "\n",
    "Try running the cell below a few times to see how **`random.sample(...)`** chooses items randomly from a list. \n",
    "\n",
    "Once you've created a list of randomly chosen filenames, you can use **`shutil.move(..., ...)`**  to move them to the directory **`NBC_DDay_News_Clips_Subset`**, just like we did a few cells back.\n"
   ]
  },
  {
   "cell_type": "code",
   "execution_count": null,
   "metadata": {
    "collapsed": true
   },
   "outputs": [],
   "source": [
    "random.sample([1,2,3,4,5,6,7,8,9,10], 4)"
   ]
  },
  {
   "cell_type": "code",
   "execution_count": null,
   "metadata": {
    "collapsed": true
   },
   "outputs": [],
   "source": [
    "os.chdir('/home/sharedfolder/NBC_DDay_News_Clips')"
   ]
  },
  {
   "cell_type": "code",
   "execution_count": null,
   "metadata": {
    "collapsed": true
   },
   "outputs": [],
   "source": [
    "os.chdir('/home/sharedfolder/NBC_DDay_Complete_Broadcast')"
   ]
  },
  {
   "cell_type": "code",
   "execution_count": null,
   "metadata": {
    "collapsed": true
   },
   "outputs": [],
   "source": [
    "clip_filenames = [item for item in os.listdir('./') if '_clip.wav' in item]\n",
    "\n",
    "clip_filenames[:10]"
   ]
  },
  {
   "cell_type": "code",
   "execution_count": null,
   "metadata": {
    "collapsed": true
   },
   "outputs": [],
   "source": [
    "for filename in clip_filenames:\n",
    "    shutil.move(filename,'/home/sharedfolder/NBC_DDay_News_Clips')"
   ]
  },
  {
   "cell_type": "markdown",
   "metadata": {},
   "source": [
    "The program **`sox`**, known as \"the Swiss Army knife of sound processing programs,\" can create high-quality spectrograms and save them as PNG image files.\n",
    "\n",
    "Back in the terminal, **`cd`** to the directory **`NBC_DDay_News_Clips_Subset`** and run the following command to create spectrograms for every file in the set.\n",
    "\n",
    "```\n",
    "for f in *_clip.wav; do sox $f -n spectrogram -x 1600 -y 513 -r -o $f.png; done\n",
    "```"
   ]
  },
  {
   "cell_type": "code",
   "execution_count": null,
   "metadata": {
    "collapsed": true
   },
   "outputs": [],
   "source": [
    "os.chdir('../NBC_DDay_News_Clips')"
   ]
  },
  {
   "cell_type": "code",
   "execution_count": null,
   "metadata": {
    "collapsed": true
   },
   "outputs": [],
   "source": [
    "!for f in *_clip.wav; do sox $f -n spectrogram -x 1600 -y 513 -r -o $f.png; done"
   ]
  },
  {
   "cell_type": "code",
   "execution_count": null,
   "metadata": {
    "collapsed": true
   },
   "outputs": [],
   "source": [
    "\n",
    "temp_filenames = os.listdir(\"/home/sharedfolder/NBC_DDay_News_Clips\")\n",
    "\n",
    "temp_filenames = random.sample(temp_filenames, 50)\n"
   ]
  },
  {
   "cell_type": "code",
   "execution_count": null,
   "metadata": {
    "collapsed": true
   },
   "outputs": [],
   "source": [
    "for filename in temp_filenames:\n",
    "    shutil.copy(filename,'../NBC_DDay_News_Clips_Subset')"
   ]
  },
  {
   "cell_type": "markdown",
   "metadata": {},
   "source": [
    "## *Sorting things out*\n",
    "\n",
    "We should now have a few hundred 30-second WAVs and corresponding PNG spectrograms in the same directory, **`NBC_DDay_News_Clips_Subset`**. Next we'll sort through the PNG files to find the really noisy ones from foreign correpondents — but first we need to create the directories where we'll put them."
   ]
  },
  {
   "cell_type": "code",
   "execution_count": null,
   "metadata": {
    "collapsed": true
   },
   "outputs": [],
   "source": [
    "# Directories where we'll put our two training classes\n",
    "\n",
    "!mkdir /home/sharedfolder/noisy\n",
    "!mkdir /home/sharedfolder/not_noisy"
   ]
  },
  {
   "cell_type": "markdown",
   "metadata": {
    "collapsed": true
   },
   "source": [
    "Open **`sharedfolder`** on your desktop and start opening spectrogram files with whatever program is most convenient. If a file looks really noisy, drag the corresponding WAV file to the **`noisy`** directory. If not, put the WAV file in **`not_noisy`**.\n",
    "\n",
    "If you can't decide where to put a file, take a quick listen and make a decision. This is your classifier; you call the shots. If you come across a file that contains music, just ignore it and move on.\n",
    "\n",
    "Once you have 20 or 30 WAVs in each class, you're ready to train your model."
   ]
  },
  {
   "cell_type": "markdown",
   "metadata": {
    "collapsed": true
   },
   "source": [
    "## *Training your classifier*\n",
    "\n",
    "Set your working directory to **`/home/sharedfolder`** and create a directory for your new model files."
   ]
  },
  {
   "cell_type": "code",
   "execution_count": null,
   "metadata": {
    "collapsed": true
   },
   "outputs": [],
   "source": [
    "os.chdir('/home/sharedfolder')\n",
    "\n",
    "!mkdir models"
   ]
  },
  {
   "cell_type": "code",
   "execution_count": null,
   "metadata": {
    "collapsed": true
   },
   "outputs": [],
   "source": []
  },
  {
   "cell_type": "code",
   "execution_count": null,
   "metadata": {
    "collapsed": true
   },
   "outputs": [],
   "source": [
    "noisy_list = [item.replace('.png','') for item in os.listdir('/home/sharedfolder/all_noises/not_noisy') if '.wav' in item]\n"
   ]
  },
  {
   "cell_type": "code",
   "execution_count": null,
   "metadata": {
    "collapsed": true
   },
   "outputs": [],
   "source": [
    "\n",
    "not_noisy_list = [item.replace('.png','') for item in os.listdir('/home/sharedfolder/all_noises/noisy') if '.wav' in item]\n",
    "              "
   ]
  },
  {
   "cell_type": "code",
   "execution_count": null,
   "metadata": {
    "collapsed": true
   },
   "outputs": [],
   "source": [
    "!mkdir ../noisy_all\n",
    "!mkdir ../not_noisy_all"
   ]
  },
  {
   "cell_type": "code",
   "execution_count": null,
   "metadata": {
    "collapsed": true
   },
   "outputs": [],
   "source": [
    "os.chdir('/home/sharedfolder/NBC_DDay_Complete_Broadcast')\n",
    "\n",
    "\n",
    "\n",
    "for item in noisy_list:\n",
    "    try:\n",
    "        shutil.copy(item.replace('.wav.wav','').replace('.wav.wav','.wav'),'../noisy_all')\n",
    "    except:\n",
    "        print item\n",
    "\n",
    "\n",
    "for item in noisy_list:\n",
    "    try:\n",
    "        shutil.copy(item.repalce('.wav.wav','').replace('.wav.wav','.wav'),'../not_noisy_all')\n",
    "    except:\n",
    "        print item\n",
    "\n"
   ]
  },
  {
   "cell_type": "code",
   "execution_count": null,
   "metadata": {
    "collapsed": true
   },
   "outputs": [],
   "source": [
    "not_noisy_list = os.listdir('/home/sharedfolder/all_noises/noisy')\n",
    "\n",
    "\n",
    "os.listdir('home/sharedfolder/all_noises/not_noisy')"
   ]
  },
  {
   "cell_type": "code",
   "execution_count": null,
   "metadata": {
    "collapsed": true
   },
   "outputs": [],
   "source": [
    "!pwd"
   ]
  },
  {
   "cell_type": "code",
   "execution_count": null,
   "metadata": {
    "collapsed": true
   },
   "outputs": [],
   "source": []
  }
 ],
 "metadata": {
  "kernelspec": {
   "display_name": "Python 2",
   "language": "python",
   "name": "python2"
  },
  "language_info": {
   "codemirror_mode": {
    "name": "ipython",
    "version": 2
   },
   "file_extension": ".py",
   "mimetype": "text/x-python",
   "name": "python",
   "nbconvert_exporter": "python",
   "pygments_lexer": "ipython2",
   "version": "2.7.6"
  }
 },
 "nbformat": 4,
 "nbformat_minor": 2
}
