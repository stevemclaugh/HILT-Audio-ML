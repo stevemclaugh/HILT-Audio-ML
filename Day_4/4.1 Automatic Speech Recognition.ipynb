{
 "cells": [
  {
   "cell_type": "markdown",
   "metadata": {},
   "source": [
    "## *Automatic Speech Recognition / Speech to Text*\n",
    "\n",
    "The [**`speech_recognition`**](https://github.com/Uberi/speech_recognition/blob/master/examples/audio_transcribe.py) Python package provides a simple interface for the free tool **`pocketsphinx`** as well as several commercial services: Google Speech Recognition, Google Cloud Speech, Wit.ai, Microsoft Bing Voice Recognition, Houndify, and IBM Speech to Text."
   ]
  },
  {
   "cell_type": "code",
   "execution_count": 3,
   "metadata": {},
   "outputs": [],
   "source": [
    "import speech_recognition as sr\n",
    "from IPython.display import display, Audio\n",
    "import timeit\n",
    "import os\n",
    "\n",
    "os.chdir('/home/sharedfolder')\n",
    "#!wget http://www.stephenmclaughlin.net/HILT/speech_clips.zip\n",
    "#!unzip speech_clips.zip\n",
    "os.chdir('speech_clips')"
   ]
  },
  {
   "cell_type": "code",
   "execution_count": 4,
   "metadata": {},
   "outputs": [
    {
     "name": "stderr",
     "output_type": "stream",
     "text": [
      "IOPub data rate exceeded.\n",
      "The notebook server will temporarily stop sending output\n",
      "to the client in order to avoid crashing it.\n",
      "To change this limit, set the config variable\n",
      "`--NotebookApp.iopub_data_rate_limit`.\n"
     ]
    }
   ],
   "source": [
    "wav_path = \"Cordell_Sync_CR_104_Sync_5_MCCC_George.40sec.0002.wav\"\n",
    "#wav_path = \"Fresh_Air_20130606.40sec.0040.wav\"\n",
    "\n",
    "display(Audio(wav_path))"
   ]
  },
  {
   "cell_type": "code",
   "execution_count": 5,
   "metadata": {},
   "outputs": [
    {
     "name": "stdout",
     "output_type": "stream",
     "text": [
      "we are if they what are we try to push for a somewhat like studies youths who would be just as the love of rules to say though this invested in laos and i don't know let's do it as something that no idea of of gets more reps in dc what governs whoa let's do this and that but it was bob and i would like to come home on as the lives they love\n",
      "\n",
      "Completed in 74.9310619831 seconds\n"
     ]
    }
   ],
   "source": [
    "# Using pocketsphinx\n",
    "\n",
    "t=timeit.default_timer()\n",
    "\n",
    "r = sr.Recognizer()\n",
    "with sr.AudioFile(wav_path) as source:\n",
    "    audio = r.record(source)    # read the entire audio file\n",
    "\n",
    "try:\n",
    "    print(r.recognize_sphinx(audio))\n",
    "except sr.UnknownValueError:\n",
    "    print(\"Sphinx could not understand audio\")\n",
    "except sr.RequestError as e:\n",
    "    print(\"Sphinx error; {0}\".format(e))\n",
    "\n",
    "print(\"\")\n",
    "print(\"Completed in \"+str(timeit.default_timer() - t)+\" seconds\")"
   ]
  },
  {
   "cell_type": "code",
   "execution_count": 6,
   "metadata": {},
   "outputs": [
    {
     "name": "stdout",
     "output_type": "stream",
     "text": [
      "Processing ...\n",
      "Completed in 70.0409970284 seconds\n"
     ]
    }
   ],
   "source": [
    "## Audio Tagging Toolkit wrapper for pocketsphinx\n",
    "\n",
    "from attk import transcribe\n",
    "\n",
    "t=timeit.default_timer()\n",
    "\n",
    "transcribe.transcribe(wav_path)\n",
    "\n",
    "print(\"Completed in \"+str(timeit.default_timer() - t)+\" seconds\")"
   ]
  },
  {
   "cell_type": "code",
   "execution_count": null,
   "metadata": {},
   "outputs": [],
   "source": [
    "# Google Speech Recognition (using the default API key)\n",
    "\n",
    "t=timeit.default_timer()\n",
    "\n",
    "r = sr.Recognizer()\n",
    "with sr.AudioFile(wav_path) as source:\n",
    "    audio = r.record(source)    # read the entire audio file\n",
    "\n",
    "try:\n",
    "    print(r.recognize_google(audio))\n",
    "except sr.UnknownValueError:\n",
    "    print(\"Google Speech Recognition could not understand audio\")\n",
    "except sr.RequestError as e:\n",
    "    print(\"Could not request results from Google Speech Recognition service; {0}\".format(e))\n",
    "\n",
    "print('')\n",
    "print(\"Completed in \"+str(timeit.default_timer() - t)+\" seconds\")\n",
    "display(Audio(wav_path))"
   ]
  },
  {
   "cell_type": "code",
   "execution_count": null,
   "metadata": {
    "collapsed": true
   },
   "outputs": [],
   "source": []
  },
  {
   "cell_type": "markdown",
   "metadata": {},
   "source": [
    "### *FFmpeg commands to resample audio files in the current directory*\n",
    "\n",
    "#### 44.1kHz\n",
    "\n",
    "```\n",
    "for file in *.wav; do ffmpeg -i \"\"\"$file\"\"\" -acodec pcm_s16le -ar 44100 -ac 1 \"\"\"$file\"\"\"_16bit_44100Hz.wav; done\n",
    "```\n",
    "\n",
    "#### 22.05kHz\n",
    "\n",
    "```\n",
    "for file in *.wav; do ffmpeg -i \"\"\"$file\"\"\" -acodec pcm_s16le -ar 22050 -ac 1 \"\"\"$file\"\"\"_16bit_22050Hz.wav; done\n",
    "```\n",
    "\n",
    "#### 16kHz\n",
    "```\n",
    "for file in *.wav; do ffmpeg -i \"\"\"$file\"\"\" -acodec pcm_s16le -ar 16000 -ac 1 \"\"\"$file\"\"\"_16bit_16000Hz.wav; done\n",
    "```"
   ]
  },
  {
   "cell_type": "code",
   "execution_count": null,
   "metadata": {
    "collapsed": true
   },
   "outputs": [],
   "source": []
  }
 ],
 "metadata": {
  "kernelspec": {
   "display_name": "Python 2",
   "language": "python",
   "name": "python2"
  },
  "language_info": {
   "codemirror_mode": {
    "name": "ipython",
    "version": 2
   },
   "file_extension": ".py",
   "mimetype": "text/x-python",
   "name": "python",
   "nbconvert_exporter": "python",
   "pygments_lexer": "ipython2",
   "version": "2.7.6"
  }
 },
 "nbformat": 4,
 "nbformat_minor": 2
}
