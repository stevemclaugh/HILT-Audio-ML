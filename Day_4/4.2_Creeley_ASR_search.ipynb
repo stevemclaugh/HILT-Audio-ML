{
 "cells": [
  {
   "cell_type": "code",
   "execution_count": null,
   "metadata": {
    "collapsed": true
   },
   "outputs": [],
   "source": [
    "import os\n",
    "import json\n",
    "import array\n",
    "from IPython.display import display, Audio\n",
    "from pydub import AudioSegment\n",
    "from pydub.utils import get_array_type\n",
    "\n",
    "os.chdir('/home/sharedfolder')\n",
    "\n",
    "## You should already have these files:\n",
    "#!wget http://www.stephenmclaughlin.net/HILT/speech_clips.zip\n",
    "#!unzip speech_clips.zip\n",
    "\n",
    "os.chdir('speech_clips')"
   ]
  },
  {
   "cell_type": "code",
   "execution_count": null,
   "metadata": {},
   "outputs": [],
   "source": [
    "wav_path = \"Creeley-Robert_Full-Recording_The-Door-1975.wav\"\n",
    "json_path=\"Creeley-Robert_Full-Recording_The-Door-1975_16000.json\"\n",
    "\n",
    "# Loading JSON file containing Kaldi transcript\n",
    "json_text = open(json_path).read()\n",
    "json_data = json.loads(json_text)\n",
    "\n",
    "# Loading audio into PyDub object\n",
    "audio_data = AudioSegment.from_wav(file=wav_path)\n",
    "audio_data = audio_data.set_channels(1)\n",
    "bit_depth = audio_data.sample_width * 8"
   ]
  },
  {
   "cell_type": "code",
   "execution_count": null,
   "metadata": {},
   "outputs": [],
   "source": [
    "def display_clip(wav_path,start_time,end_time):\n",
    "    clip_data = audio_data[int(1000*start_time):int(1000*end_time)]\n",
    "    array_type = get_array_type(bit_depth)\n",
    "    numeric_array = array.array(array_type, clip_data._data)\n",
    "    display(Audio(numeric_array, rate=audio_data.frame_rate))\n",
    "\n",
    "def get_start_times(word):\n",
    "    start_times=[]\n",
    "    for item in json_data['words']:\n",
    "        if item['word'] == word.lower():\n",
    "            start_times.append((item['time']))\n",
    "    return start_times"
   ]
  },
  {
   "cell_type": "code",
   "execution_count": null,
   "metadata": {},
   "outputs": [],
   "source": [
    "# Now let's find audio clips that contain \n",
    "\n",
    "word=\"darkness\"\n",
    "\n",
    "for time in get_start_times(word):\n",
    "        print(\"Start time: \"+ str(time-3.0))\n",
    "        display_clip(wav_path, time-3.0, time+15)\n",
    "        print('')"
   ]
  },
  {
   "cell_type": "code",
   "execution_count": null,
   "metadata": {
    "collapsed": true
   },
   "outputs": [],
   "source": []
  },
  {
   "cell_type": "code",
   "execution_count": null,
   "metadata": {},
   "outputs": [],
   "source": []
  }
 ],
 "metadata": {
  "kernelspec": {
   "display_name": "Python 2",
   "language": "python",
   "name": "python2"
  },
  "language_info": {
   "codemirror_mode": {
    "name": "ipython",
    "version": 2
   },
   "file_extension": ".py",
   "mimetype": "text/x-python",
   "name": "python",
   "nbconvert_exporter": "python",
   "pygments_lexer": "ipython2",
   "version": "2.7.6"
  }
 },
 "nbformat": 4,
 "nbformat_minor": 2
}
