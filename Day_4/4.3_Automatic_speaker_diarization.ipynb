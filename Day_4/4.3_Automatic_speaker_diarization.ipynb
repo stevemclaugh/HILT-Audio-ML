{
 "cells": [
  {
   "cell_type": "markdown",
   "metadata": {},
   "source": [
    "## *Automatic Speaker Diarization*\n",
    "\n",
    "You can find documentation on speaker diarization with pyAudioAnalysis [here](https://github.com/tyiannak/pyAudioAnalysis/wiki/5.-Segmentation#speaker-diarization)."
   ]
  },
  {
   "cell_type": "code",
   "execution_count": null,
   "metadata": {
    "collapsed": true
   },
   "outputs": [],
   "source": [
    "from pyAudioAnalysis import audioSegmentation as aS\n",
    "from IPython.display import display, Audio\n",
    "import timeit\n",
    "import os\n",
    "%matplotlib inline\n",
    "\n",
    "os.chdir('/home/sharedfolder')\n",
    "\n",
    "## Uncomment the following line \n",
    "#!git clone https://github.com/tyiannak/pyAudioAnalysis.git\n",
    "    \n",
    "## You should already have these files:\n",
    "#!wget http://www.stephenmclaughlin.net/HILT/speech_clips.zip\n",
    "#!unzip speech_clips.zip\n",
    "\n",
    "os.chdir('pyAudioAnalysis')"
   ]
  },
  {
   "cell_type": "code",
   "execution_count": null,
   "metadata": {
    "collapsed": true
   },
   "outputs": [],
   "source": [
    "!pip install git+git://github.com/hipstas/audio-tagging-toolkit/"
   ]
  },
  {
   "cell_type": "markdown",
   "metadata": {
    "collapsed": true
   },
   "source": [
    "### *Running pyAudioAnalysis diarization from the Bash shell*\n",
    "\n",
    "```\n",
    "cd /home/sharedfolder/pyAudioAnalysis\n",
    "\n",
    "python audioAnalysis.py speakerDiarization \\\n",
    "    -i /home/sharedfolder/speech_clips/Kenny_Watson_OUTS_original.5min.0002.wav \\\n",
    "    --num 0\n",
    "```"
   ]
  },
  {
   "cell_type": "code",
   "execution_count": null,
   "metadata": {},
   "outputs": [],
   "source": [
    "## Writing diarization data to CSV with Audio Tagging Toolkit\n",
    "\n",
    "from attk import diarize\n",
    "\n",
    "#/home/sharedfolder/speech_clips/Kenny_Watson_OUTS_original.5min.0002.wav\n",
    "wav_path=\"/home/sharedfolder/speech_clips/Fresh_Air_20130606.5min.0003.wav\"\n",
    "\n",
    "diarize.diarize(wav_path)\n",
    "diarize.diarize(wav_path, num_speakers=2)\n"
   ]
  },
  {
   "cell_type": "code",
   "execution_count": null,
   "metadata": {},
   "outputs": [],
   "source": []
  },
  {
   "cell_type": "code",
   "execution_count": null,
   "metadata": {
    "collapsed": true
   },
   "outputs": [],
   "source": []
  },
  {
   "cell_type": "code",
   "execution_count": null,
   "metadata": {
    "collapsed": true
   },
   "outputs": [],
   "source": []
  }
 ],
 "metadata": {
  "kernelspec": {
   "display_name": "Python 2",
   "language": "python",
   "name": "python2"
  },
  "language_info": {
   "codemirror_mode": {
    "name": "ipython",
    "version": 2
   },
   "file_extension": ".py",
   "mimetype": "text/x-python",
   "name": "python",
   "nbconvert_exporter": "python",
   "pygments_lexer": "ipython2",
   "version": "2.7.6"
  }
 },
 "nbformat": 4,
 "nbformat_minor": 2
}
